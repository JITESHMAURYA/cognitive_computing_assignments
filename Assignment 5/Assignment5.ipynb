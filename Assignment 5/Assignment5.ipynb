{
 "cells": [
  {
   "cell_type": "markdown",
   "metadata": {},
   "source": [
    "Q.1 For the array gfg = np.matrix('[4, 1, 9; 12, 3, 1; 4, 5, 6]'), Find \n",
    "i. Sum of all elements \n",
    "ii. Sum of all elements row-wise \n",
    "iii. Sum of all elements column-wise "
   ]
  },
  {
   "cell_type": "code",
   "execution_count": 1,
   "metadata": {},
   "outputs": [
    {
     "name": "stdout",
     "output_type": "stream",
     "text": [
      "Sum of all elements: 45\n",
      "Row wise sum:\n",
      " [[14]\n",
      " [16]\n",
      " [15]]\n",
      "Column wise sum: \n",
      " [[20  9 16]]\n",
      "\n"
     ]
    }
   ],
   "source": [
    "import numpy as np\n",
    "gfg=np.matrix('[4,1,9;12,3,1;4,5,6]')\n",
    "print('Sum of all elements:',np.sum(gfg))\n",
    "print('Row wise sum:\\n',np.sum(gfg,axis=1))\n",
    "print('Column wise sum: \\n',np.sum(gfg,axis=0))\n",
    "print()"
   ]
  },
  {
   "cell_type": "markdown",
   "metadata": {},
   "source": [
    "Q.2 (a)For the array: array = np.array([10, 52, 62, 16, 16, 54, 453]), find \n",
    "i. Sorted array \n",
    "ii. Indices of sorted array \n",
    "iii. 4 smallest elements \n",
    "iv. 5 largest elements \n",
    "(b) For the array: array = np.array([1.0, 1.2, 2.2, 2.0, 3.0, 2.0]), find \n",
    "i. Integer elements only \n",
    "ii. Float elements only"
   ]
  },
  {
   "cell_type": "code",
   "execution_count": 2,
   "metadata": {},
   "outputs": [
    {
     "name": "stdout",
     "output_type": "stream",
     "text": [
      "Sorted array:  [ 10  16  16  52  54  62 453]\n",
      "Indices of sorted array:  [0 3 4 1 5 2 6]\n",
      "4 smallest elements:  [10 16 16 52]\n",
      "5 largest elements:  [ 16  52  54  62 453]\n",
      "Integer elements:  [1. 2. 3. 2.]\n",
      "Float elements:  [1.2 2.2]\n"
     ]
    }
   ],
   "source": [
    "import numpy as np\n",
    "array=np.array([10,52,62,16,16,54,453])\n",
    "print('Sorted array: ',np.sort(array))\n",
    "print('Indices of sorted array: ',np.argsort(array))\n",
    "print('4 smallest elements: ',np.sort(array)[0:4])\n",
    "print('5 largest elements: ',np.sort(array)[-5:])\n",
    "\n",
    "array2=np.array([1.0,1.2,2.2,2.0,3.0,2.0])\n",
    "print('Integer elements: ',array2[array2==np.floor(array2)])\n",
    "print('Float elements: ',array2[array2!=np.floor(array2)])"
   ]
  },
  {
   "cell_type": "markdown",
   "metadata": {},
   "source": [
    "Q.3 You are given a weekly sales dataset and need to perform various operations \n",
    "using NumPy broadcasting. \n",
    "a) Generate your unique sales dataset: \n",
    " Take the sum of the ASCII values of the initials of your first and last \n",
    "name. Call this value X. (If your initials are A B → ASCII sum = 65 \n",
    "+ 66 = 131 → sales = [131, 181, 231, 281, 331].) \n",
    " Create a NumPy array sales with values [X, X+50, X+100, X+150, \n",
    "X+200]. \n",
    "b) Compute your personalized tax rate as ((X % 5) + 5) / 100. \n",
    " Use broadcasting to apply this tax rate to each sales value. \n",
    "c) Adjust sales based on discount: \n",
    " If sales < X+100, apply a 5% discount. \n",
    " If sales >= X+100, apply a 10% discount. \n",
    "d) Expand sales data for multiple weeks: \n",
    " Create a 3×5 matrix representing three weeks of sales by stacking \n",
    "sales three times using broadcasting. \n",
    " Increase sales by 2% per week using element-wise broadcasting."
   ]
  },
  {
   "cell_type": "code",
   "execution_count": 3,
   "metadata": {},
   "outputs": [
    {
     "name": "stdout",
     "output_type": "stream",
     "text": [
      "Sum:  161\n",
      "Sales:  [161 211 261 311 361]\n",
      "Tax:  [ 9.66 12.66 15.66 18.66 21.66]\n",
      "Sales with tax:  [170.66 223.66 276.66 329.66 382.66]\n",
      "Sales after discount:  [162.127 212.477 248.994 296.694 344.394]\n",
      "Weekly Sales:\n",
      " [[162.127     212.477     248.994     296.694     344.394    ]\n",
      " [165.36954   216.72654   253.97388   302.62788   351.28188  ]\n",
      " [168.6769308 221.0610708 259.0533576 308.6804376 358.3075176]]\n"
     ]
    }
   ],
   "source": [
    "name=\"HY\"\n",
    "sum=0\n",
    "for i in name:\n",
    "  sum=sum+ord(i)\n",
    "print('Sum: ',sum)\n",
    "sales=np.array([(sum+i*50) for i in range(0,5)])\n",
    "print('Sales: ',sales)\n",
    "taxrate=((sum%5)+5)/100\n",
    "tax=taxrate*sales\n",
    "print('Tax: ',tax)\n",
    "\n",
    "#Apply tax\n",
    "sales=tax+sales\n",
    "print('Sales with tax: ',sales)\n",
    "discounted=np.where(sales<(sum+100),sales*0.95,sales*0.9)\n",
    "print('Sales after discount: ',discounted)\n",
    "\n",
    "#weeksales\n",
    "weeklySales=np.tile(discounted,(3,1))\n",
    "increase=[[1],[1.02],[1.0404]]\n",
    "print(\"Weekly Sales:\\n\",weeklySales*increase)\n",
    "     "
   ]
  },
  {
   "cell_type": "markdown",
   "metadata": {},
   "source": [
    "Q4. Generate x values using np.linspace() from -10 to 10 with 100 points. Use \n",
    "each function from the list below and compute y values using NumPy: \n",
    " Y = x2 \n",
    " Y = sin(x) \n",
    " Y = ex \n",
    " Y = log(|x| + 1) \n",
    "Plot the chosen function using Matplotlib. Add title, labels, and grid for clarity. "
   ]
  },
  {
   "cell_type": "code",
   "execution_count": 19,
   "metadata": {},
   "outputs": [
    {
     "ename": "ModuleNotFoundError",
     "evalue": "No module named 'matplotlib'",
     "output_type": "error",
     "traceback": [
      "\u001b[1;31m---------------------------------------------------------------------------\u001b[0m",
      "\u001b[1;31mModuleNotFoundError\u001b[0m                       Traceback (most recent call last)",
      "Cell \u001b[1;32mIn[19], line 1\u001b[0m\n\u001b[1;32m----> 1\u001b[0m \u001b[38;5;28;01mimport\u001b[39;00m\u001b[38;5;250m \u001b[39m\u001b[38;5;21;01mmatplotlib\u001b[39;00m\u001b[38;5;21;01m.\u001b[39;00m\u001b[38;5;21;01mpyplot\u001b[39;00m\u001b[38;5;250m \u001b[39m\u001b[38;5;28;01mas\u001b[39;00m\u001b[38;5;250m \u001b[39m\u001b[38;5;21;01mplt\u001b[39;00m\n\u001b[0;32m      2\u001b[0m x\u001b[38;5;241m=\u001b[39mnp\u001b[38;5;241m.\u001b[39mlinspace(\u001b[38;5;241m-\u001b[39m\u001b[38;5;241m10\u001b[39m,\u001b[38;5;241m10\u001b[39m,num\u001b[38;5;241m=\u001b[39m\u001b[38;5;241m100\u001b[39m)\n\u001b[0;32m      3\u001b[0m y\u001b[38;5;241m=\u001b[39mx\u001b[38;5;241m*\u001b[39m\u001b[38;5;241m*\u001b[39m\u001b[38;5;241m2\u001b[39m\n",
      "\u001b[1;31mModuleNotFoundError\u001b[0m: No module named 'matplotlib'"
     ]
    }
   ],
   "source": [
    "import matplotlib.pyplot as plt\n",
    "x=np.linspace(-10,10,num=100)\n",
    "y=x**2\n",
    "plt.plot(x,y)\n",
    "plt.title('Y=X^2')\n",
    "plt.xlabel('x-axis')\n",
    "plt.ylabel('y-axis')\n",
    "plt.grid()\n",
    "plt.show()\n",
    "print()\n",
    "\n",
    "\n",
    "y=np.sin(x)\n",
    "plt.plot(x,y)\n",
    "plt.title('Y=Sin(X)')\n",
    "plt.xlabel('x-axis')\n",
    "plt.ylabel('y-axis')\n",
    "plt.grid()\n",
    "plt.show()\n",
    "print()\n",
    "\n",
    "y=np.exp(x)\n",
    "plt.plot(x,y)\n",
    "plt.title('Y=e^X')\n",
    "plt.xlabel('x-axis')\n",
    "plt.ylabel('y-axis')\n",
    "plt.grid()\n",
    "plt.show()\n",
    "print()\n",
    "\n",
    "y=np.log(abs(x)+1)\n",
    "plt.plot(x,y)\n",
    "plt.title('Y=log(|x|+1)')\n",
    "plt.xlabel('x-axis')\n",
    "plt.ylabel('y-axis')\n",
    "plt.grid()\n",
    "plt.show()\n",
    "print()"
   ]
  }
 ],
 "metadata": {
  "kernelspec": {
   "display_name": "my_venv",
   "language": "python",
   "name": "python3"
  },
  "language_info": {
   "codemirror_mode": {
    "name": "ipython",
    "version": 3
   },
   "file_extension": ".py",
   "mimetype": "text/x-python",
   "name": "python",
   "nbconvert_exporter": "python",
   "pygments_lexer": "ipython3",
   "version": "3.13.1"
  }
 },
 "nbformat": 4,
 "nbformat_minor": 2
}
